{
  "nbformat": 4,
  "nbformat_minor": 0,
  "metadata": {
    "colab": {
      "name": "CS663_FINAL_PROJECT.ipynb",
      "provenance": [],
      "collapsed_sections": []
    },
    "kernelspec": {
      "name": "python3",
      "display_name": "Python 3"
    },
    "language_info": {
      "name": "python"
    },
    "accelerator": "GPU"
  },
  "cells": [
    {
      "cell_type": "code",
      "metadata": {
        "colab": {
          "base_uri": "https://localhost:8080/"
        },
        "id": "Sh26lJrWxAuv",
        "outputId": "ae78d0a9-8c05-43ee-99a4-1e9a1c0a98b0"
      },
      "source": [
        "from google.colab import drive\n",
        "drive.mount('/content/gdrive', force_remount=True)"
      ],
      "execution_count": null,
      "outputs": [
        {
          "output_type": "stream",
          "name": "stdout",
          "text": [
            "Mounted at /content/gdrive\n"
          ]
        }
      ]
    },
    {
      "cell_type": "code",
      "metadata": {
        "id": "0e5YBHLo2MeU"
      },
      "source": [
        "import os\n",
        "import sys\n",
        "import time\n",
        "import pickle\n",
        "import numpy as np\n",
        "import matplotlib.pyplot as plt\n",
        "import matplotlib.image as mpimg\n",
        "import cv2\n",
        "import torch\n",
        "import torch.nn as nn\n",
        "from torch.nn.modules.activation import ReLU\n",
        "from torch.nn.modules.dropout import Dropout2d\n",
        "import torch.nn.functional as F\n",
        "import torch.optim as optim\n",
        "from torch.utils.data import Dataset, DataLoader\n",
        "import math\n",
        "from math import exp"
      ],
      "execution_count": null,
      "outputs": []
    },
    {
      "cell_type": "code",
      "metadata": {
        "colab": {
          "base_uri": "https://localhost:8080/"
        },
        "id": "v-VWX6lq2MYv",
        "outputId": "97b9b1e9-f2f9-43bb-a090-7312b8df613f"
      },
      "source": [
        "DEVICE = torch.device(\"cuda\" if torch.cuda.is_available() else \"cpu\")\n",
        "DEVICE"
      ],
      "execution_count": null,
      "outputs": [
        {
          "output_type": "execute_result",
          "data": {
            "text/plain": [
              "device(type='cuda')"
            ]
          },
          "metadata": {},
          "execution_count": 3
        }
      ]
    },
    {
      "cell_type": "code",
      "metadata": {
        "id": "1r15AFw92Wou"
      },
      "source": [
        "def CannyEdgeDetector(img, flag=False):\n",
        "  #assuming img is (224,224,3)\n",
        "  #if flag==False, assume that img is of the range [0..1]\n",
        "  #if flag==True, assume that img is of the range [0..255]\n",
        "  if flag==False:\n",
        "    img=(img*255)\n",
        "  img=img.astype('uint8')     #img is in [0..255]\n",
        "  img_smooth=cv2.GaussianBlur(cv2.cvtColor(img, cv2.COLOR_RGB2GRAY), (3,3), 0) #img_smooth is in [0..255]\n",
        "  edges = (cv2.Canny(img_smooth, 250, 300)>0)     #edges is boolean matrix\n",
        "  edges = edges.astype('uint8')\n",
        "  return edges"
      ],
      "execution_count": null,
      "outputs": []
    },
    {
      "cell_type": "code",
      "metadata": {
        "colab": {
          "base_uri": "https://localhost:8080/"
        },
        "id": "2m1SDAgn2ZS7",
        "outputId": "a5834998-6129-41dd-d9d2-48993445e6be"
      },
      "source": [
        "#This is a numpy array of size (16986, 3, 224, 224) and dtype 'uint8'\n",
        "IMAGES_ALL=pickle.load(open(\"./gdrive/Shareddrives/CS663-Project/PASCALVOC-dataset.pickle\", \"rb\"))\n",
        "idx=[]\n",
        "for i in range(np.shape(IMAGES_ALL)[0]):\n",
        "  if np.sum(CannyEdgeDetector(np.moveaxis(IMAGES_ALL[i], 0, -1), True))==0:\n",
        "    continue\n",
        "  idx.append(i)\n",
        "IMAGES_NEW=IMAGES_ALL[idx]\n",
        "del idx\n",
        "np.shape(IMAGES_NEW)"
      ],
      "execution_count": null,
      "outputs": [
        {
          "output_type": "execute_result",
          "data": {
            "text/plain": [
              "(16924, 3, 224, 224)"
            ]
          },
          "metadata": {},
          "execution_count": 5
        }
      ]
    },
    {
      "cell_type": "code",
      "metadata": {
        "colab": {
          "base_uri": "https://localhost:8080/",
          "height": 269
        },
        "id": "SmgYoiWeh0zk",
        "outputId": "4e543dca-e8b3-494f-c638-8613494d1f6a"
      },
      "source": [
        "idx=14\n",
        "plt.imshow(CannyEdgeDetector(np.moveaxis(IMAGES_NEW[idx],0,-1)), interpolation=\"nearest\")\n",
        "plt.show()"
      ],
      "execution_count": null,
      "outputs": [
        {
          "output_type": "display_data",
          "data": {
            "image/png": "[encoded data removed]",
            "text/plain": [
              "<Figure size 432x288 with 1 Axes>"
            ]
          },
          "metadata": {
            "needs_background": "light"
          }
        }
      ]
    },
    {
      "cell_type": "code",
      "metadata": {
        "id": "7Cv45COq3ADP"
      },
      "source": [
        "def split_train_valid(data,train_ratio):\n",
        "  train_sz = int(data.shape[0]*train_ratio)\n",
        "  train_data = data[:train_sz]\n",
        "  val_data = data[train_sz:]\n",
        "  return train_data, val_data"
      ],
      "execution_count": null,
      "outputs": []
    },
    {
      "cell_type": "markdown",
      "metadata": {
        "id": "yBW-ck0T49KR"
      },
      "source": [
        "# Loss Functions"
      ]
    },
    {
      "cell_type": "markdown",
      "metadata": {
        "id": "DJmfVCQU5E62"
      },
      "source": [
        "## Data Term"
      ]
    },
    {
      "cell_type": "code",
      "metadata": {
        "id": "MfXaIT9-3C86"
      },
      "source": [
        "def getSquaredLoss(input_img, output_img):\n",
        "  #input_img, output_img: (1, 3, 224, 224)\n",
        "  return (torch.sum((input_img-output_img)**2))/(224.0*224.0)"
      ],
      "execution_count": null,
      "outputs": []
    },
    {
      "cell_type": "markdown",
      "metadata": {
        "id": "6maOaemU5H8P"
      },
      "source": [
        "## Edge-Preserving Term + Regularization Term"
      ]
    },
    {
      "cell_type": "code",
      "metadata": {
        "id": "SFGH_JMZ48i8"
      },
      "source": [
        "def getEdgeResponse(img):\n",
        "  #assuming that img is (1, 3, 224, 224)\n",
        "  img=img[0][0]+img[0][1]+img[0][2] #(224,224)\n",
        "  img_open=F.unfold(img[None,None,:,:], kernel_size=224, padding=(3-1)//2) #(224*224, 9)\n",
        "  return torch.sum(torch.abs(img_open[0]-img_open[0][:,4:5]), dim=1).reshape(224,224)  #(224,224)"
      ],
      "execution_count": null,
      "outputs": []
    },
    {
      "cell_type": "code",
      "metadata": {
        "id": "dfP5tRcY9AKW"
      },
      "source": [
        "def otherLosses(input_img, output_img):\n",
        "  #print(\"Here1\")\n",
        "  c1=20;c2=10;h=5;alpha=5;sigma_r=0.1;sigma_s=7;p_large=2;p_small=0.8\n",
        "  mid=(h-1)//2\n",
        "  #input_img, output_img: (1, 3, 224, 224)\n",
        "  input_edge_response=getEdgeResponse(input_img)  #(224,224)\n",
        "  output_edge_response=getEdgeResponse(output_img)  #(224,224)\n",
        "  i=torch.moveaxis(input_img[0],0,-1).to(\"cpu\")      #(224,224,3)\n",
        "  edge_map=CannyEdgeDetector(i.numpy())               #(224,224)\n",
        "  edge_map=torch.from_numpy(edge_map).to(\"cuda\")       #(224,224)\n",
        "  edge_loss=torch.sum(edge_map*((input_edge_response-output_edge_response)**2))/torch.sum(edge_map) #float\n",
        "  #print(\"Here2\")\n",
        "  #finding w_ij_r\n",
        "  input_img_YUV=cv2.cvtColor((255*i.numpy()).astype(np.uint8), cv2.COLOR_RGB2YUV).astype(np.float64)/255.0  #(224,224,3)\n",
        "  input_img_YUV=torch.from_numpy(input_img_YUV).to(\"cuda\")\n",
        "  w_ij_r=torch.zeros(224*224, h*h, device=\"cuda\")\n",
        "  for i in range(3):\n",
        "    temp=F.unfold(input_img_YUV[:,:,i][None,None,:,:],kernel_size=224,padding=mid)\n",
        "    w_ij_r=w_ij_r+(temp[0]-temp[0][:,mid:mid+1])**2\n",
        "  w_ij_r=torch.exp(-w_ij_r/(2*sigma_r*sigma_r)).float()   #(224*224, h*h)\n",
        "  #print(\"Here3\")\n",
        "  #finding w_ij_sl=[i for i in range(-mid, mid+1)]\n",
        "  l=[i for i in range(-mid, mid+1)]\n",
        "  grid_x, grid_y=torch.meshgrid(torch.tensor(l,device=\"cuda\"), torch.tensor(l,device=\"cuda\"), indexing=\"ij\")\n",
        "  w_ij_s=(alpha*torch.exp(-(grid_x**2+grid_y**2)/(2*sigma_s*sigma_s))).reshape((1, h*h)).float()    #(h,h)\n",
        "  #print(\"Here4\")\n",
        "  #finding p_i's\n",
        "  large_indices=(input_edge_response<c1)*(output_edge_response-input_edge_response>c2)  #(224,224)\n",
        "  small_indices=~large_indices    #(224,224)\n",
        "  P_mat=torch.zeros(224,224,device=\"cuda\")  #(224,224)\n",
        "  P_mat[large_indices]=p_large    #(224,224)\n",
        "  P_mat[small_indices]=p_small    #(224,224)\n",
        "  P_mat=P_mat.reshape((224*224,1))\n",
        "  #print(\"Here5\")\n",
        "  #L_p norm\n",
        "  T=torch.zeros(224*224, h*h, device=\"cuda\")\n",
        "  for i in range(3):\n",
        "    temp=F.unfold(output_img[0,i,:,:][None,None,...], kernel_size=224, padding=mid)\n",
        "    T=T+torch.pow(1e-40+torch.abs(temp[0]-temp[0][:,mid:mid+1]), P_mat)\n",
        "  w_ij=torch.zeros(224*224, h*h, device=\"cuda\")\n",
        "  large_idx=(P_mat==p_large).squeeze()\n",
        "  small_idx=(P_mat==p_small).squeeze()\n",
        "  w_ij[large_idx,:]=w_ij_s\n",
        "  w_ij[small_idx,:]=w_ij_r[small_idx,:]\n",
        "  regularization_loss=torch.sum(w_ij*T)/(224.0*224.0)\n",
        "  return edge_loss, regularization_loss"
      ],
      "execution_count": null,
      "outputs": []
    },
    {
      "cell_type": "markdown",
      "metadata": {
        "id": "Mkr2-AcGBxS6"
      },
      "source": [
        "## Total Loss Function"
      ]
    },
    {
      "cell_type": "code",
      "metadata": {
        "id": "1x9DojPGBw9Q"
      },
      "source": [
        "def LOSS_FUNCTION(input_img, output_img):\n",
        "  lambda_f=1; lambda_e=0.2\n",
        "  data_term=getSquaredLoss(input_img, output_img)\n",
        "  edge_preserving_term, regularization_term=otherLosses(input_img, output_img)\n",
        "  return data_term + (lambda_f*regularization_term) + (lambda_e*edge_preserving_term)"
      ],
      "execution_count": null,
      "outputs": []
    },
    {
      "cell_type": "code",
      "metadata": {
        "id": "9HyOtMewO0a7"
      },
      "source": [
        "def getResidualBlock(in_ch, out_ch, dilation_factor):\n",
        "    return nn.Sequential(\n",
        "        nn.Conv2d(in_ch,out_ch,(3,3),dilation=dilation_factor,padding=dilation_factor),\n",
        "        nn.BatchNorm2d(out_ch),\n",
        "        nn.ReLU(inplace=True),\n",
        "        nn.Conv2d(out_ch,out_ch,(3,3),dilation=dilation_factor,padding=dilation_factor),\n",
        "        nn.BatchNorm2d(out_ch),\n",
        "    )\n",
        "\n",
        "def getConvolutionLayer(in_ch,out_ch,stride):\n",
        "    if stride == 1:\n",
        "        return nn.Sequential(\n",
        "            nn.Conv2d(in_ch,out_ch,(3,3),stride=stride,padding=\"same\"),\n",
        "            nn.BatchNorm2d(out_ch),\n",
        "            nn.ReLU(inplace=True)\n",
        "        ) \n",
        "    else:\n",
        "        return nn.Sequential(\n",
        "            nn.Conv2d(in_ch,out_ch,(3,3),stride=stride,padding=1),\n",
        "            nn.BatchNorm2d(out_ch),\n",
        "            nn.ReLU(inplace=True)\n",
        "        )\n",
        "\n",
        "def getDeconvolveLayer(in_ch,out_ch,stride):\n",
        "    return nn.Sequential(\n",
        "        nn.ConvTranspose2d(in_ch,out_ch,(3,3),stride=stride,padding = 1,output_padding=1),\n",
        "        nn.BatchNorm2d(out_ch),\n",
        "        nn.ReLU(inplace=True)\n",
        "    )\n",
        "\n",
        "class ImageTransformer(nn.Module):\n",
        "\n",
        "  def __init__(self):\n",
        "    super().__init__()\n",
        "\n",
        "    self.layer1 = getConvolutionLayer(3,64,1)\n",
        "    self.layer2 = getConvolutionLayer(64,64,1)\n",
        "    self.layer3 = getConvolutionLayer(64,64,2)\n",
        "\n",
        "    self.residual_block1 = getResidualBlock(64,64,2)\n",
        "    self.residual_block2 = getResidualBlock(64,64,2)\n",
        "    self.residual_block3 = getResidualBlock(64,64,4)\n",
        "    self.residual_block4 = getResidualBlock(64,64,4)\n",
        "    self.residual_block5 = getResidualBlock(64,64,8)\n",
        "    self.residual_block6 = getResidualBlock(64,64,8)\n",
        "    self.residual_block7 = getResidualBlock(64,64,16)\n",
        "    self.residual_block8 = getResidualBlock(64,64,16)\n",
        "    self.residual_block9 = getResidualBlock(64,64,1)\n",
        "    self.residual_block10 = getResidualBlock(64,64,1)\n",
        "\n",
        "    self.deconvolve11 = getDeconvolveLayer(64,64,2)\n",
        "\n",
        "    self.layer11 = getConvolutionLayer(64,64,1)\n",
        "    self.layer12 = nn.Conv2d(64,3,(3,3),stride=1,padding=1)\n",
        "    \n",
        "\n",
        "    print(\"Initialized model\")\n",
        "\n",
        "  def forward(self,image):\n",
        "\n",
        "    output = self.layer1(image)\n",
        "    output = self.layer2(output)\n",
        "    output = self.layer3(output)\n",
        "\n",
        "    output = F.relu((output+self.residual_block1(output)))\n",
        "    output = F.relu((output+self.residual_block2(output)))\n",
        "    output = F.relu((output+self.residual_block3(output)))\n",
        "    output = F.relu((output+self.residual_block4(output)))\n",
        "    output = F.relu((output+self.residual_block5(output)))\n",
        "    output = F.relu((output+self.residual_block6(output)))\n",
        "    output = F.relu((output+self.residual_block7(output)))\n",
        "    output = F.relu((output+self.residual_block8(output)))\n",
        "    output = F.relu((output+self.residual_block9(output)))\n",
        "    output = F.relu((output+self.residual_block10(output)))\n",
        "\n",
        "    output = self.deconvolve11(output)\n",
        "\n",
        "    output = self.layer11(output)\n",
        "\n",
        "    output = self.layer12(output)\n",
        "\n",
        "    return image + output"
      ],
      "execution_count": null,
      "outputs": []
    },
    {
      "cell_type": "code",
      "metadata": {
        "id": "wH1HswwmO5lj"
      },
      "source": [
        "batch_sz = 1\n",
        "lr = 1e-2\n",
        "epochs = 15#"
      ],
      "execution_count": null,
      "outputs": []
    },
    {
      "cell_type": "code",
      "metadata": {
        "id": "f2BlwBe4O8IR"
      },
      "source": [
        "def initialize_weights(model):\n",
        "    # Initializes weights according to the DCGAN paper\n",
        "    for idx, m in enumerate(model.modules()):\n",
        "        if isinstance(m, (nn.Conv2d, nn.ConvTranspose2d)):\n",
        "          if idx == 2:\n",
        "            std_dev = math.sqrt(12.0/(603.0))\n",
        "          else:\n",
        "            std_dev = math.sqrt((12.0/1152.0))\n",
        "          \n",
        "          nn.init.uniform_(m.weight.data,-std_dev,std_dev)\n",
        "          m.bias.data.fill_(0.0)\n",
        "\n",
        "        elif isinstance(m, (nn.BatchNorm2d)):\n",
        "\n",
        "          m.weight.data.fill_(1.0)\n",
        "          m.bias.data.fill_(0.0)\n",
        "        # if you also want for linear layers ,add one more elif condition "
      ],
      "execution_count": null,
      "outputs": []
    },
    {
      "cell_type": "code",
      "metadata": {
        "colab": {
          "base_uri": "https://localhost:8080/"
        },
        "id": "lqLMaS41O988",
        "outputId": "caff10e3-a440-423e-d39d-9b38ac908236"
      },
      "source": [
        "model = ImageTransformer()\n",
        "initialize_weights(model)\n",
        "model.to(\"cuda\")\n",
        "images_train, images_val = split_train_valid(IMAGES_NEW[:2000],0.99)\n",
        "Train_DataLoader = DataLoader(images_train,batch_size = batch_sz,num_workers=2,shuffle=True)\n",
        "myOptim = optim.AdamW(model.parameters(),lr=lr)"
      ],
      "execution_count": null,
      "outputs": [
        {
          "output_type": "stream",
          "name": "stdout",
          "text": [
            "Initialized model\n"
          ]
        }
      ]
    },
    {
      "cell_type": "code",
      "metadata": {
        "id": "O0JeknMjPCBS"
      },
      "source": [
        "def train(epochs):\n",
        "  # train_loss = []\n",
        "  # val_loss = []\n",
        "\n",
        "  # prev_loss = -10000\n",
        "\n",
        "  for epoch in range(epochs):\n",
        "    print(\"Epoch Number:\",epoch)\n",
        "    total_loss = 0\n",
        "    # total_e_loss = 0\n",
        "    # total_s_loss = 0\n",
        "\n",
        "    for idx, images_batch in enumerate(Train_DataLoader):\n",
        "        images_batch1 = images_batch.float()\n",
        "        images_batch1 = images_batch1.to(DEVICE)\n",
        "        images_batch1=images_batch1/255.0\n",
        "        output = model.forward(images_batch1)\n",
        "\n",
        "        loss = LOSS_FUNCTION(images_batch1, output)\n",
        "        if idx%100==0:\n",
        "          print(\"{}:{}\".format(idx, loss))\n",
        "        total_loss += loss.item()\n",
        "        # total_e_loss += edge_l.item()\n",
        "        # total_s_loss += smooth_l.item()\n",
        "\n",
        "        myOptim.zero_grad()\n",
        "        loss.backward()\n",
        "        myOptim.step()\n",
        "        del images_batch1\n",
        "    total_loss = total_loss/images_train.shape[0]\n",
        "    # total_e_loss = total_e_loss/images_train.shape[0]\n",
        "    # total_s_loss = total_s_loss/images_train.shape[0]\n",
        "    # train_loss.append(total_loss)\n",
        "\n",
        "    print(\"After an epoch Loss: \",total_loss)\n",
        "    # print(\"Smoothness Loss:\",total_s_loss)\n",
        "    # print(\"Edge Loss:\",total_e_loss)\n",
        "\n",
        "    # if prev_loss > loss:\n",
        "    #   torch.save(model,\"./gdrive/Shareddrives/CS663-Project/RKMODEL.pt\")\n",
        "    #   prev_loss = loss\n",
        "\n",
        "    # if prev_loss == -10000:    \n",
        "    #   prev_loss = loss\n",
        "    torch.save(model,\"./gdrive/Shareddrives/CS663-Project/RKMODEL_25-11-2021_{}.pt\".format(epoch))"
      ],
      "execution_count": null,
      "outputs": []
    },
    {
      "cell_type": "code",
      "metadata": {
        "id": "vLEG5PjJ3rQF"
      },
      "source": [
        "# torch.autograd.set_detect_anomaly(True)"
      ],
      "execution_count": null,
      "outputs": []
    },
    {
      "cell_type": "code",
      "metadata": {
        "colab": {
          "base_uri": "https://localhost:8080/"
        },
        "id": "Zdg3GKpuPHsT",
        "outputId": "2379aa83-2040-41f9-d476-8b147078ed1f"
      },
      "source": [
        "train(epochs)"
      ],
      "execution_count": null,
      "outputs": [
        {
          "output_type": "stream",
          "name": "stdout",
          "text": [
            "Epoch Number: 0\n",
            "0:322.5987854003906\n",
            "100:3.804903507232666\n",
            "200:3.903360366821289\n",
            "300:3.732339382171631\n",
            "400:3.336240530014038\n",
            "500:4.067846775054932\n",
            "600:4.424531936645508\n",
            "700:3.239927291870117\n",
            "800:3.619211196899414\n",
            "900:3.900084972381592\n",
            "1000:3.800119400024414\n",
            "1100:3.342984199523926\n",
            "1200:3.2630887031555176\n",
            "1300:2.785635232925415\n",
            "1400:3.311908721923828\n",
            "1500:3.395622730255127\n",
            "1600:2.8581907749176025\n",
            "1700:3.057359218597412\n",
            "1800:3.914055347442627\n",
            "1900:3.3910634517669678\n",
            "After an epoch Loss:  6.063357802593347\n",
            "Epoch Number: 1\n",
            "0:3.619598388671875\n",
            "100:3.2973580360412598\n",
            "200:3.676362991333008\n",
            "300:3.6537303924560547\n",
            "400:3.7011663913726807\n",
            "500:2.8920042514801025\n",
            "600:3.117021322250366\n",
            "700:3.374774932861328\n",
            "800:3.233125686645508\n",
            "900:3.916428804397583\n",
            "1000:3.4250426292419434\n",
            "1100:3.458040952682495\n",
            "1200:3.87335467338562\n",
            "1300:3.930018424987793\n",
            "1400:3.2510011196136475\n",
            "1500:3.6453511714935303\n",
            "1600:2.0113141536712646\n",
            "1700:2.3345351219177246\n",
            "1800:3.1399006843566895\n",
            "1900:2.9946706295013428\n",
            "After an epoch Loss:  3.183144270470648\n",
            "Epoch Number: 2\n",
            "0:3.74526309967041\n",
            "100:3.477506160736084\n",
            "200:3.1498336791992188\n",
            "300:2.4253697395324707\n",
            "400:2.2840545177459717\n",
            "500:2.28833270072937\n",
            "600:3.071533441543579\n",
            "700:2.1593267917633057\n",
            "800:2.9543983936309814\n",
            "900:2.463118553161621\n",
            "1000:2.365609884262085\n",
            "1100:2.3311188220977783\n",
            "1200:2.000068426132202\n",
            "1300:2.0612661838531494\n",
            "1400:1.8754842281341553\n",
            "1500:2.3916385173797607\n",
            "1600:2.398923873901367\n",
            "1700:1.4615353345870972\n",
            "1800:2.6397674083709717\n",
            "1900:2.399583339691162\n",
            "After an epoch Loss:  2.4919029894200238\n",
            "Epoch Number: 3\n",
            "0:2.002338171005249\n",
            "100:2.338576078414917\n",
            "200:2.059661865234375\n",
            "300:2.7040302753448486\n",
            "400:2.465106964111328\n",
            "500:1.7902402877807617\n",
            "600:2.49678111076355\n",
            "700:1.9834511280059814\n",
            "800:2.006042718887329\n",
            "900:2.5863587856292725\n",
            "1000:2.5466020107269287\n",
            "1100:2.46437406539917\n",
            "1200:1.526960849761963\n",
            "1300:2.060715675354004\n",
            "1400:2.1654117107391357\n",
            "1500:2.4954514503479004\n",
            "1600:2.381920099258423\n",
            "1700:1.1180235147476196\n",
            "1800:2.1526691913604736\n",
            "1900:2.7045319080352783\n",
            "After an epoch Loss:  2.053758197902429\n",
            "Epoch Number: 4\n",
            "0:1.7451571226119995\n",
            "100:1.14882493019104\n",
            "200:2.1504030227661133\n",
            "300:2.1537342071533203\n",
            "400:2.181589126586914\n",
            "500:1.7722547054290771\n",
            "600:2.271353006362915\n",
            "700:1.7386211156845093\n",
            "800:2.085474729537964\n",
            "900:1.661392331123352\n",
            "1000:1.9825953245162964\n",
            "1100:1.220261573791504\n",
            "1200:2.0599746704101562\n",
            "1300:1.8675206899642944\n",
            "1400:2.211057424545288\n",
            "1500:1.9457851648330688\n",
            "1600:2.3530333042144775\n",
            "1700:1.7997652292251587\n",
            "1800:1.8133792877197266\n",
            "1900:1.616779088973999\n",
            "After an epoch Loss:  1.8549060462099134\n",
            "Epoch Number: 5\n",
            "0:1.816156268119812\n",
            "100:1.8502490520477295\n",
            "200:2.291821002960205\n",
            "300:1.6285258531570435\n",
            "400:1.4301774501800537\n",
            "500:2.0550990104675293\n",
            "600:1.7491976022720337\n",
            "700:1.5229493379592896\n",
            "800:1.9214732646942139\n",
            "900:1.8534512519836426\n",
            "1000:1.7243328094482422\n",
            "1100:1.78163480758667\n",
            "1200:1.987451434135437\n",
            "1300:1.382653832435608\n",
            "1400:1.9289077520370483\n",
            "1500:2.671893358230591\n",
            "1600:1.5218912363052368\n",
            "1700:2.1354167461395264\n",
            "1800:1.459754228591919\n",
            "1900:1.2691911458969116\n",
            "After an epoch Loss:  1.7594598704215252\n",
            "Epoch Number: 6\n",
            "0:1.5884768962860107\n",
            "100:1.615146517753601\n",
            "200:1.3395287990570068\n",
            "300:1.884756326675415\n",
            "400:1.8171982765197754\n",
            "500:1.5515360832214355\n",
            "600:2.2412004470825195\n",
            "700:1.3453396558761597\n",
            "800:1.669650912284851\n",
            "900:1.5163700580596924\n",
            "1000:1.9347635507583618\n",
            "1100:1.6111198663711548\n",
            "1200:1.38861882686615\n",
            "1300:1.188019871711731\n",
            "1400:1.5385994911193848\n",
            "1500:2.177126884460449\n",
            "1600:1.409053087234497\n",
            "1700:2.1208691596984863\n",
            "1800:1.4709964990615845\n",
            "1900:1.3624825477600098\n",
            "After an epoch Loss:  1.6804301192363102\n",
            "Epoch Number: 7\n",
            "0:1.748185396194458\n",
            "100:1.1047240495681763\n",
            "200:1.9103301763534546\n",
            "300:2.0502378940582275\n",
            "400:1.4397472143173218\n",
            "500:1.77700936794281\n",
            "600:1.9181952476501465\n",
            "700:1.7752877473831177\n",
            "800:1.8509052991867065\n",
            "900:1.4826405048370361\n",
            "1000:2.0131185054779053\n",
            "1100:1.348050594329834\n",
            "1200:1.77901029586792\n",
            "1300:1.7647706270217896\n",
            "1400:1.7493698596954346\n",
            "1500:1.4899896383285522\n",
            "1600:1.7143715620040894\n",
            "1700:1.8679784536361694\n",
            "1800:1.7692697048187256\n",
            "1900:2.1796486377716064\n",
            "After an epoch Loss:  1.6425641919928369\n",
            "Epoch Number: 8\n",
            "0:1.791771411895752\n",
            "100:1.7877153158187866\n",
            "200:1.4718395471572876\n",
            "300:1.5818161964416504\n",
            "400:1.5329304933547974\n",
            "500:1.5496790409088135\n",
            "600:1.6459580659866333\n",
            "700:1.2735974788665771\n",
            "800:1.8666325807571411\n",
            "900:1.6358572244644165\n",
            "1000:1.5769400596618652\n",
            "1100:1.9026439189910889\n",
            "1200:1.4637881517410278\n",
            "1300:1.969176173210144\n",
            "1400:1.181758999824524\n",
            "1500:1.6131932735443115\n",
            "1600:1.5394901037216187\n",
            "1700:1.6213865280151367\n",
            "1800:1.2438971996307373\n",
            "1900:1.4030494689941406\n",
            "After an epoch Loss:  1.6114377869500054\n",
            "Epoch Number: 9\n",
            "0:1.7053308486938477\n",
            "100:1.803174614906311\n",
            "200:2.5527820587158203\n",
            "300:1.321599006652832\n",
            "400:1.5123313665390015\n",
            "500:1.4536715745925903\n",
            "600:1.7159746885299683\n",
            "700:1.6235111951828003\n",
            "800:1.348609447479248\n",
            "900:1.6768641471862793\n",
            "1000:1.4692243337631226\n",
            "1100:1.8500689268112183\n",
            "1200:1.5931774377822876\n",
            "1300:1.6838204860687256\n",
            "1400:1.26921808719635\n",
            "1500:1.5002646446228027\n",
            "1600:1.590957760810852\n",
            "1700:1.624037265777588\n",
            "1800:1.6819734573364258\n",
            "1900:1.474408507347107\n",
            "After an epoch Loss:  1.5866534945639696\n",
            "Epoch Number: 10\n",
            "0:1.5740714073181152\n",
            "100:1.6489638090133667\n",
            "200:2.202366590499878\n",
            "300:1.6103938817977905\n",
            "400:1.5728753805160522\n",
            "500:1.4791135787963867\n",
            "600:1.9530750513076782\n",
            "700:1.7160193920135498\n",
            "800:1.7357133626937866\n",
            "900:1.8644680976867676\n",
            "1000:2.050828456878662\n",
            "1100:1.6838810443878174\n",
            "1200:1.8183995485305786\n",
            "1300:1.630600929260254\n",
            "1400:2.016615629196167\n",
            "1500:1.1614933013916016\n",
            "1600:1.2514485120773315\n",
            "1700:1.7173285484313965\n",
            "1800:1.6316955089569092\n",
            "1900:1.3257646560668945\n",
            "After an epoch Loss:  1.564956170741958\n",
            "Epoch Number: 11\n",
            "0:2.099313259124756\n",
            "100:1.8053089380264282\n",
            "200:1.2720727920532227\n",
            "300:1.5605628490447998\n",
            "400:0.9537693858146667\n",
            "500:0.9828251600265503\n",
            "600:1.3924938440322876\n",
            "700:1.7467520236968994\n",
            "800:1.4153945446014404\n",
            "900:1.7265959978103638\n",
            "1000:1.3484220504760742\n",
            "1100:1.2610409259796143\n",
            "1200:1.4160830974578857\n",
            "1300:1.497092366218567\n",
            "1400:1.6345865726470947\n",
            "1500:1.4949599504470825\n",
            "1600:1.684474229812622\n",
            "1700:1.8645423650741577\n",
            "1800:1.834205985069275\n",
            "1900:0.7346554398536682\n",
            "After an epoch Loss:  1.482914674131557\n",
            "Epoch Number: 12\n",
            "0:1.718017816543579\n",
            "100:1.6072351932525635\n",
            "200:1.6799285411834717\n",
            "300:1.3620449304580688\n",
            "400:1.1745070219039917\n",
            "500:1.4119564294815063\n",
            "600:1.1479090452194214\n",
            "700:1.034048318862915\n",
            "800:1.3533424139022827\n",
            "900:1.5435242652893066\n",
            "1000:0.9516491889953613\n",
            "1100:1.3096246719360352\n",
            "1200:1.6806275844573975\n",
            "1300:1.1214137077331543\n",
            "1400:1.8163052797317505\n",
            "1500:1.346609354019165\n",
            "1600:1.2890633344650269\n",
            "1700:1.0278241634368896\n",
            "1800:1.2124114036560059\n",
            "1900:1.3938299417495728\n",
            "After an epoch Loss:  1.4026354865594344\n",
            "Epoch Number: 13\n",
            "0:1.4059205055236816\n",
            "100:1.506935477256775\n",
            "200:1.1801286935806274\n",
            "300:0.9793969988822937\n",
            "400:1.2534914016723633\n",
            "500:1.3492158651351929\n",
            "600:1.6049607992172241\n",
            "700:1.0891263484954834\n",
            "800:1.047033667564392\n",
            "900:1.6573325395584106\n",
            "1000:1.4266395568847656\n",
            "1100:1.3718100786209106\n",
            "1200:1.595333218574524\n",
            "1300:1.4584904909133911\n",
            "1400:1.6353135108947754\n",
            "1500:1.2004750967025757\n",
            "1600:1.6227906942367554\n",
            "1700:1.5918041467666626\n",
            "1800:1.5460140705108643\n",
            "1900:0.8011673092842102\n",
            "After an epoch Loss:  1.3799318994837577\n",
            "Epoch Number: 14\n",
            "0:1.0372751951217651\n",
            "100:0.954058051109314\n",
            "200:1.6641666889190674\n",
            "300:1.2496360540390015\n",
            "400:1.3531745672225952\n",
            "500:1.2550625801086426\n",
            "600:1.2284117937088013\n",
            "700:1.3336471319198608\n",
            "800:1.0213249921798706\n",
            "900:1.4645473957061768\n",
            "1000:1.4704921245574951\n",
            "1100:1.1436880826950073\n",
            "1200:1.5585709810256958\n",
            "1300:1.7832740545272827\n",
            "1400:1.4206199645996094\n",
            "1500:1.58470618724823\n",
            "1600:1.1688669919967651\n",
            "1700:1.1985286474227905\n",
            "1800:1.3086128234863281\n",
            "1900:1.5633726119995117\n",
            "After an epoch Loss:  1.345762979171493\n"
          ]
        }
      ]
    },
    {
      "cell_type": "code",
      "metadata": {
        "id": "-C-_D8dIPjRk"
      },
      "source": [
        "idx = 11\n",
        "I=IMAGES_NEW[idx][None,:,:,:]/255.0\n",
        "I=torch.from_numpy(I)\n",
        "I=I.to(DEVICE)\n",
        "im=model.forward(I.float())\n",
        "im=im.to(\"cpu\")\n",
        "fig, axList=plt.subplots(1,2, figsize=(10,10))\n",
        "axList[0].imshow(np.moveaxis(IMAGES_NEW[idx], 0, -1))\n",
        "axList[1].imshow(np.moveaxis(im[0].detach().numpy(), 0, -1))\n",
        "plt.show()"
      ],
      "execution_count": null,
      "outputs": []
    },
    {
      "cell_type": "code",
      "metadata": {
        "id": "Bj8j-THYXY-a"
      },
      "source": [
        "im_scaled=((im-torch.min(im))/(torch.max(im)-torch.min(im)))\n",
        "plt.imshow(torch.moveaxis(im_scaled[0],0,-1).detach().numpy())"
      ],
      "execution_count": null,
      "outputs": []
    }
  ]
}